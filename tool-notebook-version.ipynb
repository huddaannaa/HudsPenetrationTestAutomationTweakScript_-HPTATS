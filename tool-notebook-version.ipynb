{
 "cells": [
  {
   "cell_type": "markdown",
   "metadata": {},
   "source": [
    "# Huds Penetration Test Automation Tweak Script (HPTATS)\n",
    "## A tweakable worksheet for automating penetration testing tasks\n",
    "\n",
    "**Author:** Hud Seidu Daannaa, MSc Information Security CEH"
   ]
  },
  {
   "cell_type": "markdown",
   "metadata": {},
   "source": [
    "### Script Overview\n",
    "This script is designed for:\n",
    "- Automating penetration testing tasks.\n",
    "- Providing modular functions for DNS reconnaissance, port scanning, exploit search, and web analysis.\n",
    "- Output management and structured storage."
   ]
  },
  {
   "cell_type": "code",
   "execution_count": null,
   "metadata": {},
   "outputs": [],
   "source": [
    "import os\n",
    "import requests\n",
    "import socket\n",
    "import json\n",
    "import geocoder\n",
    "import itertools\n",
    "from subprocess import Popen, PIPE\n",
    "from bs4 import BeautifulSoup\n",
    "import logging\n",
    "from shutil import copy2\n",
    "\n",
    "# Set up logging\n",
    "logging.basicConfig(level=logging.INFO, format='[%(levelname)s] %(message)s')"
   ]
  },
  {
   "cell_type": "markdown",
   "metadata": {},
   "source": [
    "### Helper Functions"
   ]
  },
  {
   "cell_type": "code",
   "execution_count": null,
   "metadata": {},
   "outputs": [],
   "source": [
    "def setup_directory_structure(base_dir, folders):\n",
    "    \"\"\"Create a structured directory for organizing output files.\"\"\"\n",
    "    paths = {}\n",
    "    for folder in folders:\n",
    "        path = os.path.join(base_dir, folder)\n",
    "        os.makedirs(path, exist_ok=True)\n",
    "        paths[folder] = path\n",
    "    return paths\n",
    "\n",
    "def run_command(command, *args):\n",
    "    \"\"\"Run a shell command and return its output.\"\"\"\n",
    "    try:\n",
    "        process = Popen([command, *args], stdout=PIPE, stderr=PIPE)\n",
    "        stdout, stderr = process.communicate()\n",
    "        return stdout.decode(), stderr.decode()\n",
    "    except Exception as e:\n",
    "        logging.error(f\"Error running command `{command}`: {e}\")\n",
    "        return None, None\n",
    "\n",
    "def save_to_file(filepath, data):\n",
    "    \"\"\"Save data to a file.\"\"\"\n",
    "    with open(filepath, 'w') as f:\n",
    "        f.write(data)\n",
    "    logging.info(f\"Data saved to {filepath}\")"
   ]
  },
  {
   "cell_type": "markdown",
   "metadata": {},
   "source": [
    "### Core Functions"
   ]
  },
  {
   "cell_type": "code",
   "execution_count": null,
   "metadata": {},
   "outputs": [],
   "source": [
    "def resolve_target_info(target):\n",
    "    \"\"\"Resolve target IP and location details.\"\"\"\n",
    "    try:\n",
    "        target_ip = socket.gethostbyname(target)\n",
    "        logging.info(f\"Target IP: {target_ip}\")\n",
    "        \n",
    "        geocode_info = geocoder.ipinfo(target_ip)\n",
    "        location = geocode_info.latlng\n",
    "        logging.info(f\"Location: {location}\")\n",
    "        \n",
    "        return target_ip, location, geocode_info.json\n",
    "    except Exception as e:\n",
    "        logging.error(f\"Error resolving target info: {e}\")\n",
    "        return None, None, None\n",
    "\n",
    "def perform_dns_recon(target, output_dir):\n",
    "    \"\"\"Perform DNS reconnaissance using dig, host, and whois.\"\"\"\n",
    "    commands = {\n",
    "        'dig': ['dig', target],\n",
    "        'host': ['host', target],\n",
    "        'whois': ['whois', target],\n",
    "    }\n",
    "\n",
    "    for tool, cmd in commands.items():\n",
    "        stdout, _ = run_command(*cmd)\n",
    "        if stdout:\n",
    "            save_to_file(os.path.join(output_dir, f\"{tool}_output.txt\"), stdout)\n",
    "\n",
    "def perform_port_scan(target, output_dir):\n",
    "    \"\"\"Perform a port scan using Nmap.\"\"\"\n",
    "    nmap_command = ['nmap', '-sT', '-Pn', '-sV', '-T4', '-n', '-A', target]\n",
    "    stdout, stderr = run_command(*nmap_command)\n",
    "    \n",
    "    if stdout:\n",
    "        save_to_file(os.path.join(output_dir, \"nmap_stdout.txt\"), stdout)\n",
    "    if stderr:\n",
    "        save_to_file(os.path.join(output_dir, \"nmap_stderr.txt\"), stderr)\n",
    "\n",
    "def search_exploits(query, output_dir):\n",
    "    \"\"\"Search for exploits using searchsploit.\"\"\"\n",
    "    stdout, _ = run_command('searchsploit', query)\n",
    "    if stdout:\n",
    "        save_to_file(os.path.join(output_dir, f\"{query}_exploits.txt\"), stdout)\n",
    "\n",
    "def analyze_web_page(target, output_dir):\n",
    "    \"\"\"Fetch and analyze the webpage source of the target.\"\"\"\n",
    "    url = f\"http://{target}\"\n",
    "    headers = {'User-Agent': 'Mozilla/5.0'}\n",
    "    \n",
    "    try:\n",
    "        response = requests.get(url, headers=headers)\n",
    "        response.raise_for_status()\n",
    "        \n",
    "        soup = BeautifulSoup(response.text, 'html.parser')\n",
    "        save_to_file(os.path.join(output_dir, \"webpage_source.html\"), soup.prettify())\n",
    "        \n",
    "        links = [link.get('href') for link in soup.find_all('a')]\n",
    "        save_to_file(os.path.join(output_dir, \"links.txt\"), \"\\n\".join(filter(None, links)))\n",
    "    except requests.RequestException as e:\n",
    "        logging.error(f\"Error fetching webpage: {e}\")"
   ]
  },
  {
   "cell_type": "markdown",
   "metadata": {},
   "source": [
    "### Main Execution"
   ]
  },
  {
   "cell_type": "code",
   "execution_count": null,
   "metadata": {},
   "outputs": [],
   "source": [
    "target = \"www.dvwa.co.uk\"\n",
   
