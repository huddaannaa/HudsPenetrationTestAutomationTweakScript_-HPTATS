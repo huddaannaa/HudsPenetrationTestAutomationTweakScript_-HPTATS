{
 "cells": [
  {
   "cell_type": "markdown",
   "metadata": {},
   "source": [
    "<!-- markdownlint-disable -->\n",
    "<h1 align=\"center\" style=\"margin:1em\"> HudsPenetrationTestAutomationTweakScript_(HPTATS)</h1>\n",
    "<h4 align=\"center\"> A tweakable worksheet, I use to automate my projects (Penetration testing) </h4>\n",
    "<h4 align=\"center\"> By  Hud Seidu Daannaa,  MSc Information Security CEH </h4>"
   ]
  },
  {
   "cell_type": "markdown",
   "metadata": {},
   "source": [
    "### About\n",
    "_The aim of this script is to use it as a scrap book \n",
    "or a jotter for personal automations instead of relying on fully automated scanning tools\n",
    "by personally automation this worksheet **(HPTATS)**, a pentester can make tweaks on the go, and also automate his thoughts\n",
    "this is a script i use to help enable and facilitate my projects_\n",
    "\n",
    "### Note\n",
    "+ The worksheet is still undergoing improvements\n",
    "+ Contact **Hud S Daannaa MSc CEH** for any questions or issue with regards to InfoSec or my work\n",
    "\n",
    "### Important\n",
    "_The Script or worksheet is dependant on Python and linux knowledge,it is also dependant on the following security tools listed below_\n",
    "+ Nmap\n",
    "+ Host\n",
    "+ Dig\n",
    "+ whois\n",
    "+ Tor\n",
    "+ Searchsploit\n",
    "\n",
    "### Python Packages\n",
    "_The following Py packages must be installed to get the full functionality of this script, i am working on another script that will install relevant packages to help make work easier and faster_\n",
    "+ os\n",
    "+ PythonDNS\n",
    "+ Geocoder\n",
    "+ Beautiful Soup\n",
    "+ request\n",
    "+ subprocess\n",
    "+ Json\n",
    "+ Socket"
   ]
  },
  {
   "cell_type": "code",
   "execution_count": 3,
   "metadata": {
    "collapsed": true
   },
   "outputs": [],
   "source": [
    "#https://highon.coffee/blog/nmap-cheat-sheet/\n",
    "#$ apt-get install python-bs4 (for Python 2)\n",
    "#$ apt-get install python3-bs4 (for Python 3)\n",
    "def search_exploit(exploit_name=''):\n",
    "    import subprocess\n",
    "    wrk = subprocess.check_output(['searchsploit',exploit_name]).split('\\n')\n",
    "    exploit_paths=[]\n",
    "    exploit_desc=[]\n",
    "    wkk=[]\n",
    "    for n in range(0,len(wrk)):\n",
    "        for n1 in range(0,len(wrk[n])):\n",
    "            if wrk[n][n1] == '|':\n",
    "                wrk3 = wrk[n].split('|')[1]\n",
    "                #wrk2 = wrk[n].split('|')[0]\n",
    "                wrk2 = wrk[n].split('|')\n",
    "                wkk.append(wrk2)\n",
    "                exploit_paths.append(wrk3)\n",
    "                exploit_desc.append(wrk2)\n",
    "            else:pass\n",
    "    ex_plts=[]\n",
    "    \n",
    "    \n",
    "    for p1 in exploit_paths:\n",
    "        if 'exploits' in p1:ex_plts.append(p1)\n",
    "        else:pass\n",
    "    ex_desc=[]\n",
    "    \n",
    "    \n",
    "    for p2 in exploit_desc:\n",
    "        ex_desc.append(p2)\n",
    "    return wkk, ex_plts\n",
    "\n",
    "def my_word_gen(start= 3,end= 3, elements = 1):\n",
    "    import itertools\n",
    "    #types of elements\n",
    "    if elements ==1: elements= 'abcdefghijklmnopqrstuvwxyx'\n",
    "    if elements ==2: elements= '0123456789'\n",
    "    if elements== 3: elements= 'abcdefghijklmnopqrstuvwxyx0123456789'\n",
    "    else: pass\n",
    "    wl = []\n",
    "    for i in range(start,end+1):\n",
    "        for xs in itertools.product(elements, repeat=i):\n",
    "            wl.append(''.join(xs))\n",
    "    return wl\n",
    "\n",
    "def my_anonymity_TOR():\n",
    "    import socket, socks\n",
    "    try:\n",
    "        print '[-] establishing TOR routing ...'\n",
    "        socks.setdefaultproxy(socks.PROXY_TYPE_SOCKS5, \"127.0.0.1\", 9050, True)\n",
    "        print '[-] Done!'\n",
    "        print ' '\n",
    "    except:\n",
    "        print '[-] unable to establish TOR routing ...'\n",
    "        sys.close()\n",
    "    try:\n",
    "        print '[-] Passing normal traffic through TOR network '\n",
    "        socket.socket = socks.socksocket\n",
    "        print '[-] Done!'\n",
    "    except:\n",
    "        print '[-] unable to pass trafic ...'\n",
    "        sys.close()\n",
    "        \n",
    "def check_my_IP():\n",
    "    import requests\n",
    "    return requests.get('http://ip.42.pl/raw').text\n",
    "\n",
    "def check_protocols_in_file(file_):\n",
    "    file = open(file_,'r') \n",
    "    e=[]\n",
    "    for w1 in file:\n",
    "        for w2 in w1.split():\n",
    "            e.append(''.join(w2))\n",
    "    li_e= list(e)\n",
    "    ans, protocals = [], ['smnp','smtp','ldap','mysql','http','pop3','ftp','ssh',\n",
    "                          'imap','vnc','unknown','https','telnet','submission']\n",
    "    for protocal in protocals:\n",
    "        if protocal in li_e: ans.append(protocal)\n",
    "        else:pass\n",
    "    return ans\n",
    "\n",
    "def dirr(name):  \n",
    "    parent_dir = '/home/'+os.getenv('USER')+'/hack/'+ str(target)+'/'\n",
    "    if not os.path.exists(parent_dir):os.makedirs(parent_dir);print \"[+] \"+\"Parent\"+\"_dir created\"\n",
    "    else:pass#;print \"[+] \"+\"Parent\"+\"_dir exists\"\n",
    "    if not os.path.exists(parent_dir + name + '/'):os.makedirs(parent_dir + name + '/');print \"[+] \"+ name +\"_dir created\"\n",
    "    else:pass#;print \"[+] \"+ name +\"_dir exists\";\n",
    "    return parent_dir + name + '/'\n",
    "\n",
    "#PACKAGES\n",
    "import os\n",
    "import requests\n",
    "import socket\n",
    "import json\n",
    "import geocoder\n",
    "from subprocess import Popen, PIPE\n",
    "from bs4 import BeautifulSoup\n",
    "#Tor Nmap Pythondns Host Dig Jupyter(Anaconda) Linux(Debian)\n",
    "#pip install json2html"
   ]
  },
  {
   "cell_type": "markdown",
   "metadata": {},
   "source": [
    "=======================================================================================================================\n",
    "# TARGET & LOCATIOn\n",
    "======================================================================================================================="
   ]
  },
  {
   "cell_type": "code",
   "execution_count": 6,
   "metadata": {},
   "outputs": [
    {
     "name": "stdout",
     "output_type": "stream",
     "text": [
      "[+] Target_IP is: 178.79.147.242\n",
      "[+] URL is:       www.dvwa.co.uk\n",
      "[+] Location coordinates of www.dvwa.co.uk: [51.5142, -0.0931]\n",
      "\n",
      "[+] Current IP       :  178.79.147.242\n",
      "[+] Coordinates of IP:  [51.5142, -0.0931]\n",
      "\n",
      "[+] Details of TARGET location\n",
      "\n",
      "[x]  status OK\n",
      "[x]  city London\n",
      "[x]  ok True\n",
      "[x]  ip 178.79.147.242\n",
      "[x]  hostname li267-242.members.linode.com\n",
      "[x]  raw {u'loc': u'51.5142,-0.0931', u'city': u'London', u'country': u'GB', u'region': u'England', u'hostname': u'li267-242.members.linode.com', u'ip': u'178.79.147.242', u'org': u'AS63949 Linode, LLC', u'postal': u'EC2V'}\n",
      "[x]  state England\n",
      "[x]  country GB\n",
      "[x]  lat 51.5142\n",
      "[x]  org AS63949 Linode, LLC\n",
      "[x]  lng -0.0931\n",
      "[x]  postal EC2V\n",
      "[x]  address London, England, GB\n"
     ]
    }
   ],
   "source": [
    "target = 'www.dvwa.co.uk'\n",
    "tatget_ip = socket.gethostbyname(target)\n",
    "print '[+] Target_IP is: '+tatget_ip+'\\n' + '[+] URL is:       '+target\n",
    "\n",
    "ip2cordinates  = geocoder.ip(tatget_ip).latlng\n",
    "reverse_lookup = geocoder.google(ip2cordinates, method='reverse')\n",
    "\n",
    "print '[+] Location coordinates of '+target+': '+ str(ip2cordinates)\n",
    "\n",
    "g = geocoder.ipinfo(tatget_ip)\n",
    "print ''\n",
    "print '[+] Current IP       : ',g.ip\n",
    "print '[+] Coordinates of IP: ',g.latlng\n",
    "print ''\n",
    "print '[+] Details of TARGET location'\n",
    "print ''\n",
    "for n,m in g.json.iteritems():\n",
    "    print '[x] ',n,m\n",
    "#https://geocoder.readthedocs.io/providers/Mapbox.html#reverse-geocoding"
   ]
  },
  {
   "cell_type": "markdown",
   "metadata": {},
   "source": [
    "=======================================================================================================================\n",
    "## ANONYMITy & LOCATIOn\n",
    "======================================================================================================================="
   ]
  },
  {
   "cell_type": "code",
   "execution_count": 7,
   "metadata": {},
   "outputs": [
    {
     "name": "stdout",
     "output_type": "stream",
     "text": [
      "[-] establishing TOR routing ...\n",
      "[-] Done!\n",
      " \n",
      "[-] Passing normal traffic through TOR network \n",
      "[-] Done!\n",
      "\n",
      "[+] Current IP       :  167.99.134.21\n",
      "[+] Coordinates of IP:  [50.1167, 8.6833]\n",
      "\n",
      "[+] Details of your location\n",
      "\n",
      "[x]  status OK\n",
      "[x]  city Frankfurt am Main\n",
      "[x]  ok True\n",
      "[x]  ip 167.99.134.21\n",
      "[x]  address Frankfurt am Main, Hesse, DE\n",
      "[x]  raw {u'loc': u'50.1167,8.6833', u'city': u'Frankfurt am Main', u'ip': u'167.99.134.21', u'region': u'Hesse', u'country': u'DE', u'org': u'AS14061 DigitalOcean, LLC', u'postal': u'09079'}\n",
      "[x]  state Hesse\n",
      "[x]  country DE\n",
      "[x]  lat 50.1167\n",
      "[x]  org AS14061 DigitalOcean, LLC\n",
      "[x]  lng 8.6833\n",
      "[x]  postal 09079\n"
     ]
    }
   ],
   "source": [
    "#hideMaAss\n",
    "my_anonymity_TOR()\n",
    "#print '[+] IP add from TOR is: ' + check_my_IP()\n",
    "\n",
    "g = geocoder.ipinfo('me')\n",
    "print ''\n",
    "print '[+] Current IP       : ',g.ip\n",
    "print '[+] Coordinates of IP: ',g.latlng\n",
    "print ''\n",
    "print '[+] Details of your location'\n",
    "print ''\n",
    "for n,m in g.json.iteritems():\n",
    "    print '[x] ',n,m\n",
    "#infoFromJson = json.loads(g.json)\n",
    "#print json2html.convert(json = infoFromJson)"
   ]
  },
  {
   "cell_type": "markdown",
   "metadata": {},
   "source": []
  },
  {
   "cell_type": "markdown",
   "metadata": {},
   "source": [
    "=======================================================================================================================\n",
    "## DIRECTORy & FILE-StorageSTRUCTURe\n",
    "======================================================================================================================="
   ]
  },
  {
   "cell_type": "code",
   "execution_count": 8,
   "metadata": {},
   "outputs": [
    {
     "name": "stdout",
     "output_type": "stream",
     "text": [
      "\n",
      "[+] Parent_dir created\n",
      "[+] nmap_path_dir created\n",
      "[-] nmap_path      /home/hud/hack/www.dvwa.co.uk/nmap_path/\n",
      "\n",
      "[+] nmap_path_prot/vital_port_and_service_info_dir created\n",
      "[-] nmap_path_prot/vital_port_and_service_info      /home/hud/hack/www.dvwa.co.uk/nmap_path_prot/vital_port_and_service_info/\n",
      "\n",
      "[+] dns_path_dir created\n",
      "[-] dns_path      /home/hud/hack/www.dvwa.co.uk/dns_path/\n",
      "\n",
      "[+] nikto_path_dir created\n",
      "[-] nikto_path      /home/hud/hack/www.dvwa.co.uk/nikto_path/\n",
      "\n",
      "[+] page_src_path_dir created\n",
      "[-] page_src_path      /home/hud/hack/www.dvwa.co.uk/page_src_path/\n",
      "\n",
      "[+] xploit_path_dir created\n",
      "[-] xploit_path      /home/hud/hack/www.dvwa.co.uk/xploit_path/\n"
     ]
    }
   ],
   "source": [
    "folders = [ 'nmap_path', 'nmap_path_prot/vital_port_and_service_info',\n",
    "           'dns_path', 'nikto_path', 'page_src_path', 'xploit_path']\n",
    "for n in folders:\n",
    "    print ''\n",
    "    print '[-] '+n+'      '+ dirr(n)"
   ]
  },
  {
   "cell_type": "markdown",
   "metadata": {},
   "source": [
    "=======================================================================================================================\n",
    "## HOST DISCOVERy & DNS INFORMATIOn\n",
    "======================================================================================================================="
   ]
  },
  {
   "cell_type": "markdown",
   "metadata": {},
   "source": [
    "#### Target host"
   ]
  },
  {
   "cell_type": "code",
   "execution_count": 9,
   "metadata": {
    "scrolled": false
   },
   "outputs": [
    {
     "name": "stdout",
     "output_type": "stream",
     "text": [
      "[+] Ping was successful\n"
     ]
    }
   ],
   "source": [
    "#PING target\n",
    "try:stdout2, stderr = Popen(['ping','-c4', target], stdout=PIPE, stderr=PIPE).communicate(); print '[+] Ping was successful'\n",
    "except:print '[+] Was not able to ping: '+target"
   ]
  },
  {
   "cell_type": "markdown",
   "metadata": {},
   "source": [
    "#### DNSRecon"
   ]
  },
  {
   "cell_type": "code",
   "execution_count": 10,
   "metadata": {},
   "outputs": [
    {
     "name": "stdout",
     "output_type": "stream",
     "text": [
      "[+] DNS_Scan with DIG was successful\n",
      "[+] DNS_DIG_info was sent to the folder\n",
      " \n",
      "[+] DNS_Scan with HOST was successful\n",
      "[+] DNS_HOST_info was sent to the folder\n",
      " \n",
      "[+] DNS_Scan with WHOIS was successful\n",
      "[+] DNS_WHOIS_info was sent to the folder\n",
      " \n"
     ]
    }
   ],
   "source": [
    "#dig target type NS MX A\n",
    "p1 = 'type'\n",
    "p2 = 'NS'\n",
    "p3 = 'MX'\n",
    "p4 = 'A'\n",
    "\n",
    "try:stdout5, stderr = Popen(['dig', target, p1, p2, p3], stdout=PIPE, stderr=PIPE).communicate(); print '[+] DNS_Scan with DIG was successful'\n",
    "except:print '[+] DNS_Scan with DIG was not successful for : '+target\n",
    "    \n",
    "file = open(dirr('dns_path') + 'DNS_with_DIG.txt','w') \n",
    "file.write(str(stdout5))\n",
    "file.close()\n",
    "print '[+] DNS_DIG_info was sent to the folder'\n",
    "print ' '\n",
    "\n",
    "p1 = '-v'\n",
    "\n",
    "try:stdout5, stderr = Popen(['host', p1, target], stdout=PIPE, stderr=PIPE).communicate(); print '[+] DNS_Scan with HOST was successful'\n",
    "except:print '[+] DNS_Scan with HOST was not successful for : '+target\n",
    "    \n",
    "file = open(dirr('dns_path') + 'DNS_with_HOST.txt','w') \n",
    "file.write(str(stdout5))\n",
    "file.close()\n",
    "print '[+] DNS_HOST_info was sent to the folder'\n",
    "print ' '\n",
    "\n",
    "try:stdout5, stderr = Popen(['whois', target], stdout=PIPE, stderr=PIPE).communicate(); print '[+] DNS_Scan with WHOIS was successful'\n",
    "except:print '[+] DNS_Scan with WHOIS was not successful for : '+target\n",
    "    \n",
    "file = open(dirr('dns_path') + 'DNS_with_WHOIS.txt','w') \n",
    "file.write(str(stdout5))\n",
    "file.close()\n",
    "print '[+] DNS_WHOIS_info was sent to the folder'\n",
    "print ' '"
   ]
  },
  {
   "cell_type": "markdown",
   "metadata": {},
   "source": [
    "=======================================================================================================================\n",
    "# PORT SCANNING & SERVICE-Detection\n",
    "======================================================================================================================="
   ]
  },
  {
   "cell_type": "markdown",
   "metadata": {},
   "source": [
    "#### NMAP SCANS"
   ]
  },
  {
   "cell_type": "code",
   "execution_count": 11,
   "metadata": {
    "scrolled": true
   },
   "outputs": [
    {
     "name": "stdout",
     "output_type": "stream",
     "text": [
      "[+]sT portscan was successful for : www.dvwa.co.uk\n",
      "[+] From STDOUT the sT port_info for |www.dvwa.co.uk| was sent to the folder: /home/hud/hack/www.dvwa.co.uk/nmap_path/\n",
      "[+] From STDERR the sT port_info for |www.dvwa.co.uk| was sent to the folder: /home/hud/hack/www.dvwa.co.uk/nmap_path/\n",
      "\n"
     ]
    }
   ],
   "source": [
    "command   = 'nmap'\n",
    "scan_type = '-sT'\n",
    "p2 = '-Pn'\n",
    "p3 = '-sV'\n",
    "p4 = '-T1'\n",
    "p5 = '-n'\n",
    "#p6 = '-p1-65535;'\n",
    "p6 = '-A;'\n",
    "\n",
    "try:\n",
    "    stdout, stderr = Popen([command, scan_type, p2, p3, p4, p5, p6, target], stdout=PIPE, stderr=PIPE).communicate()\n",
    "    print '[+]'+str(scan_type[1:]) + ' portscan was successful for : '+target\n",
    "except:\n",
    "    print '[+]'+str(scan_type[1:]) + ' portscan was not successful for : '+target\n",
    "    \n",
    "file_1 = open(dirr(command+'_path')+ 'Scan_type_'+str(scan_type[1:])+'.txt','w') \n",
    "file_1.write(str(stdout));file_1.close()\n",
    "print '[+] From STDOUT the '+str(scan_type[1:]) + ' port_info for |' +target+'| was sent to the folder: ' + dirr(command+'_path')\n",
    "\n",
    "file_2 = open(dirr(command+'_path')+ 'Scan_type_'+str(scan_type[1:])+' STDerr'+'.txt','w') \n",
    "file_2.write(str(stderr));file_2.close()\n",
    "print '[+] From STDERR the '+str(scan_type[1:]) + ' port_info for |' +target+'| was sent to the folder: ' + dirr(command+'_path')\n",
    "print ''"
   ]
  },
  {
   "cell_type": "markdown",
   "metadata": {},
   "source": [
    "=======================================================================================================================\n",
    "# OUTPUT of PORTScan\n",
    "======================================================================================================================="
   ]
  },
  {
   "cell_type": "markdown",
   "metadata": {},
   "source": [
    "**_This section will loop through all scaned saved TXT's and list the protocals available_\n",
    "_the section of code uses grep and the protocol as a param to capture the service from the file_\n",
    "_and prints out a line_**\n",
    "_______________________________________________________________________________________________________________________"
   ]
  },
  {
   "cell_type": "code",
   "execution_count": 14,
   "metadata": {
    "scrolled": false
   },
   "outputs": [
    {
     "name": "stdout",
     "output_type": "stream",
     "text": [
      "\n",
      "[+] /home/hud/hack/www.dvwa.co.uk/nmap_path/Scan_type_sT STDerr.txt\n",
      "\n",
      "\n",
      "[+] /home/hud/hack/www.dvwa.co.uk/nmap_path/Scan_type_sT.txt\n",
      "\n"
     ]
    }
   ],
   "source": [
    "for n in os.listdir(dirr('nmap_path')):\n",
    "    if os.path.isdir(dirr('nmap_path') + n):\n",
    "        pass\n",
    "    else:\n",
    "        path_ = os.path.dirname(dirr('nmap_path'))+ '/'+ n\n",
    "        print ''\n",
    "        print '[+] '+path_\n",
    "        print ''\n",
    "        f = ''\n",
    "        for protocol_1 in check_protocols_in_file(dirr('nmap_path')+n):\n",
    "            #print protocol_1\n",
    "            stdout211, stderr = Popen(['grep', str(protocol_1),path_], stdout=PIPE, stderr=PIPE).communicate()\n",
    "            resl = stdout211.strip('\\n')\n",
    "            print resl\n",
    "            #''.join(resl)\n",
    "            #and save to a file\n",
    "            #\"\"\"\n",
    "            file = open(dirr('nmap_path_prot') + 'vital_port_and_service_info.txt','w')\n",
    "            print >> file, str(''.join(stdout211))\n",
    "            file.close()\n",
    "            #\"\"\""
   ]
  },
  {
   "cell_type": "markdown",
   "metadata": {},
   "source": [
    "=======================================================================================================================\n",
    "# WEB SERVER\n",
    "======================================================================================================================="
   ]
  },
  {
   "cell_type": "markdown",
   "metadata": {},
   "source": [
    "#### PAGE SOURCE RECON"
   ]
  },
  {
   "cell_type": "code",
   "execution_count": 15,
   "metadata": {
    "collapsed": true
   },
   "outputs": [],
   "source": [
    "url        = 'http://' + target\n",
    "headers    = {'user-agent': 'Mozilla/5.0 (platform; rv:geckoversion) Gecko/geckotrail SeaMonkey/2.7.1'}\n",
    "respons    = requests.get(url, headers= headers, allow_redirects=True)\n",
    "beaut_soup = BeautifulSoup(respons.text, 'html.parser')"
   ]
  },
  {
   "cell_type": "code",
   "execution_count": 16,
   "metadata": {
    "collapsed": true
   },
   "outputs": [],
   "source": [
    "head              = respons.headers\n",
    "stat_code         = respons.status_code\n",
    "a_tags            = [str(link.get('href')) for link in beaut_soup.find_all('a')]\n",
    "all_tag_types     = [str(tag.name) for tag in beaut_soup.find_all(True)]\n",
    "all_strings       = [str(repr(string[1:])) for string in beaut_soup.stripped_strings]\n",
    "values = [head,stat_code,all_tag_types,a_tags, all_strings ]"
   ]
  },
  {
   "cell_type": "code",
   "execution_count": 18,
   "metadata": {},
   "outputs": [],
   "source": [
    "for c in range(0,len(values)-1):\n",
    "    file = open(dirr('page_src_path')+ str(c)+'.txt','w')\n",
    "    file.write(str(values[c]))\n",
    "    file.close()"
   ]
  },
  {
   "cell_type": "markdown",
   "metadata": {},
   "source": [
    "> "
   ]
  },
  {
   "cell_type": "markdown",
   "metadata": {},
   "source": [
    "=======================================================================================================================\n",
    "# SEARCHING FOR AN EXPLOIT\n",
    "======================================================================================================================="
   ]
  },
  {
   "cell_type": "markdown",
   "metadata": {},
   "source": [
    "#### Searchsploit"
   ]
  },
  {
   "cell_type": "code",
   "execution_count": 68,
   "metadata": {},
   "outputs": [
    {
     "name": "stdout",
     "output_type": "stream",
     "text": [
      "\u001b[01;31m\u001b[KNginx\u001b[m\u001b[K (Debian Based Distros + Gentoo) \n",
      "\u001b[01;31m\u001b[KNginx\u001b[m\u001b[K 0.6.36 - Directory Traversal    \n",
      "\u001b[01;31m\u001b[KNginx\u001b[m\u001b[K 0.6.38 - Heap Corruption        \n",
      "\u001b[01;31m\u001b[KNginx\u001b[m\u001b[K 0.6.x - Arbitrary Code Executio \n",
      "\u001b[01;31m\u001b[KNginx\u001b[m\u001b[K 0.7.0 < 0.7.61 / 0.6.0 < 0.6.38 \n",
      "\u001b[01;31m\u001b[KNginx\u001b[m\u001b[K 0.7.61 - WebDAV Directory Trave \n",
      "\u001b[01;31m\u001b[KNginx\u001b[m\u001b[K 0.7.64 - Terminal Escape Sequen \n",
      "\u001b[01;31m\u001b[KNginx\u001b[m\u001b[K 0.7.65/0.8.39 (dev) - Source Di \n",
      "\u001b[01;31m\u001b[KNginx\u001b[m\u001b[K 0.8.36 - Source Disclosure / De \n",
      "\u001b[01;31m\u001b[KNginx\u001b[m\u001b[K 1.1.17 - URI Processing SecURIt \n",
      "\u001b[01;31m\u001b[KNginx\u001b[m\u001b[K 1.3.9 < 1.4.0 - Chuncked Encodi \n",
      "\u001b[01;31m\u001b[KNginx\u001b[m\u001b[K 1.3.9 < 1.4.0 - Denial of Servi \n",
      "\u001b[01;31m\u001b[KNginx\u001b[m\u001b[K 1.3.9/1.4.0 (x86) - Brute Force \n",
      "\u001b[01;31m\u001b[KNginx\u001b[m\u001b[K 1.4.0 (Generic Linux x64) - Rem \n",
      " Paper Title                   \n",
      "                               \n",
      "\u001b[01;31m\u001b[KNginx\u001b[m\u001b[K Exploit Documentation Ab \n"
     ]
    }
   ],
   "source": [
    "name = 'nginx' #nginx 1.14.0\n",
    "des,exp = search_exploit(name);\n",
    "for n in des[2:]:\n",
    "    print n[0]"
   ]
  },
  {
   "cell_type": "markdown",
   "metadata": {},
   "source": [
    "=======================================================================================================================\n",
    "# MetaSploit_Exploit_Importation\n",
    "======================================================================================================================="
   ]
  },
  {
   "cell_type": "markdown",
   "metadata": {},
   "source": [
    "+ _This section of code, take an exploit path from an external source like **searchsploit/ exploitDB**_\n",
    " _and chops and creates the various directories in order to save the EXPLOIT file, this file will be_\n",
    " _recognized by msf_console as an inbuilt exploit module_"
   ]
  },
  {
   "cell_type": "code",
   "execution_count": 7,
   "metadata": {},
   "outputs": [
    {
     "name": "stdout",
     "output_type": "stream",
     "text": [
      "[+] Exploit EXTENSION is not a ruby file, but: html\n"
     ]
    }
   ],
   "source": [
    "#External Exploit path from ExploitDB\n",
    "#external_path4_exploit = 'exploits/linux/local/40679.sh'\n",
    "external_path4_exploit = exp\n",
    "\n",
    "#checking to see if exploit is a ruby file\n",
    "if external_path4_exploit.split('.')[1] is not 'rb':print '[+] Exploit EXTENSION is not a ruby file, but: '+ external_path4_exploit.split('.')[1]\n",
    "else:\n",
    "    print '[+] Exploit EXTENSION is a ruby file'\n",
    "    #local_location_of exploit(Downloaded)\n",
    "    local_location_of_exploit = '/home'+'/'+os.getenv('USER')+'/'+'Downloads/40679.sh'\n",
    "\n",
    "    #main msf folder whuch must contain external exploit\n",
    "    msf_dir     = '/home/'+os.getenv('USER')+'/'+'.msf4/modules'+'/'+'exploits'\n",
    "    if not os.path.exists(msf_dir):os.makedirs(msf_dir);print \"[+] \"+\"Msf\"+\"_dir created\"\n",
    "    else:pass;print \"[+] \"+\"Msf\"+\"_dir exists\"\n",
    "\n",
    "    #extraction of paths to create exploit dir&file\n",
    "    explt = external_path4_exploit.split('/')[1:];rr= ''\n",
    "    for nn in range(0,len(explt)):rr = rr +'/'+ (str(explt[nn]))\n",
    "\n",
    "    #exploit file path\n",
    "    x_fil = msf_dir + rr\n",
    "\n",
    "    #exploit dir path (dst)\n",
    "    x_dir = os.path.dirname(x_fil) +'/'\n",
    "\n",
    "    #exploit dir creation\n",
    "    if not os.path.exists(x_dir):os.makedirs(x_dir);print \"[+] \"+\"Exploit\"+\"_dir created\"\n",
    "    else:pass;print '';print \"[+] \"+\"Exploit\"+\"_dir exists at: \"\n",
    "    print '[+] '+ '*** ' +x_dir+ ' ***'\n",
    "    print ''\n",
    "\n",
    "    #Coping exploit file from local to newly created path for msf_console\n",
    "    from shutil import copy2\n",
    "    if os.path.exists(x_dir + os.path.basename(x_fil)):print '[+] Exploit file exists: '+'\\n'+'[+] '+os.path.basename(x_fil)\n",
    "    else:\n",
    "        try:copy2(local_location_of_exploit, str(x_dir));print '[*] Exploit file tranferr is successful'\n",
    "        except:print '[-] Exploit file tranferr is unsuccessful'"
   ]
  }
 ],
 "metadata": {
  "kernelspec": {
   "display_name": "Python 2",
   "language": "python",
   "name": "python2"
  },
  "language_info": {
   "codemirror_mode": {
    "name": "ipython",
    "version": 2
   },
   "file_extension": ".py",
   "mimetype": "text/x-python",
   "name": "python",
   "nbconvert_exporter": "python",
   "pygments_lexer": "ipython2",
   "version": "2.7.13"
  }
 },
 "nbformat": 4,
 "nbformat_minor": 2
}
